{
 "cells": [
  {
   "cell_type": "code",
   "execution_count": 1,
   "id": "44b3d71d",
   "metadata": {},
   "outputs": [
    {
     "name": "stdout",
     "output_type": "stream",
     "text": [
      "Name: snscrape\n",
      "Version: 0.6.2.20230320\n",
      "Summary: A social networking service scraper\n",
      "Home-page: \n",
      "Author: JustAnotherArchivist\n",
      "Author-email: \n",
      "License: \n",
      "Location: c:\\users\\hp\\anaconda3\\lib\\site-packages\n",
      "Requires: beautifulsoup4, filelock, lxml, requests\n",
      "Required-by: \n"
     ]
    }
   ],
   "source": [
    "!pip show snscrape"
   ]
  },
  {
   "cell_type": "code",
   "execution_count": 2,
   "id": "c9e0081b",
   "metadata": {},
   "outputs": [],
   "source": [
    "import snscrape.modules.twitter as sntweet\n",
    "import pandas as pd\n",
    "from tqdm.notebook import tqdm"
   ]
  },
  {
   "cell_type": "code",
   "execution_count": 3,
   "id": "b23113ad",
   "metadata": {},
   "outputs": [],
   "source": [
    "keywords = 'artificialintelligence'\n",
    "scraper = sntweet.TwitterSearchScraper(keywords)"
   ]
  },
  {
   "cell_type": "code",
   "execution_count": 5,
   "id": "b46415fd",
   "metadata": {},
   "outputs": [
    {
     "data": {
      "application/vnd.jupyter.widget-view+json": {
       "model_id": "cc590ace9be94f53a81c5a11258c0a84",
       "version_major": 2,
       "version_minor": 0
      },
      "text/plain": [
       "0it [00:00, ?it/s]"
      ]
     },
     "metadata": {},
     "output_type": "display_data"
    }
   ],
   "source": [
    "tweets = []\n",
    "for i , tweet in tqdm(enumerate(scraper.get_items())):\n",
    "    data = [tweet.date,\n",
    "    tweet.user.username , \n",
    "    tweet.user.location , \n",
    "    tweet.rawContent,\n",
    "    tweet.likeCount]\n",
    "    tweets.append(data)\n",
    "    if i > 10 :\n",
    "        break"
   ]
  },
  {
   "cell_type": "code",
   "execution_count": 6,
   "id": "3cd75f4e",
   "metadata": {},
   "outputs": [],
   "source": [
    "df=pd.DataFrame(tweets,columns=['date' , 'username' ,'location','tweets' , 'likes'])"
   ]
  },
  {
   "cell_type": "code",
   "execution_count": 7,
   "id": "d1742510",
   "metadata": {},
   "outputs": [
    {
     "name": "stdout",
     "output_type": "stream",
     "text": [
      "<class 'pandas.core.frame.DataFrame'>\n",
      "RangeIndex: 12 entries, 0 to 11\n",
      "Data columns (total 5 columns):\n",
      " #   Column    Non-Null Count  Dtype              \n",
      "---  ------    --------------  -----              \n",
      " 0   date      12 non-null     datetime64[ns, UTC]\n",
      " 1   username  12 non-null     object             \n",
      " 2   location  12 non-null     object             \n",
      " 3   tweets    12 non-null     object             \n",
      " 4   likes     12 non-null     int64              \n",
      "dtypes: datetime64[ns, UTC](1), int64(1), object(3)\n",
      "memory usage: 608.0+ bytes\n"
     ]
    }
   ],
   "source": [
    "df.info()"
   ]
  },
  {
   "cell_type": "code",
   "execution_count": 8,
   "id": "64b984e5",
   "metadata": {},
   "outputs": [
    {
     "data": {
      "text/html": [
       "<div>\n",
       "<style scoped>\n",
       "    .dataframe tbody tr th:only-of-type {\n",
       "        vertical-align: middle;\n",
       "    }\n",
       "\n",
       "    .dataframe tbody tr th {\n",
       "        vertical-align: top;\n",
       "    }\n",
       "\n",
       "    .dataframe thead th {\n",
       "        text-align: right;\n",
       "    }\n",
       "</style>\n",
       "<table border=\"1\" class=\"dataframe\">\n",
       "  <thead>\n",
       "    <tr style=\"text-align: right;\">\n",
       "      <th></th>\n",
       "      <th>date</th>\n",
       "      <th>username</th>\n",
       "      <th>location</th>\n",
       "      <th>tweets</th>\n",
       "      <th>likes</th>\n",
       "    </tr>\n",
       "  </thead>\n",
       "  <tbody>\n",
       "    <tr>\n",
       "      <th>0</th>\n",
       "      <td>2023-04-15 17:24:35+00:00</td>\n",
       "      <td>rudenetworks</td>\n",
       "      <td></td>\n",
       "      <td>A.I Art Work 16381\\n000043.139232532\\n#aiart #...</td>\n",
       "      <td>0</td>\n",
       "    </tr>\n",
       "    <tr>\n",
       "      <th>1</th>\n",
       "      <td>2023-04-15 17:24:05+00:00</td>\n",
       "      <td>RogerRehm4</td>\n",
       "      <td>Los Aneles, CA</td>\n",
       "      <td>How To Buy Reviews On Google\\nhttps://t.co/lZi...</td>\n",
       "      <td>1</td>\n",
       "    </tr>\n",
       "    <tr>\n",
       "      <th>2</th>\n",
       "      <td>2023-04-15 17:24:02+00:00</td>\n",
       "      <td>KeotusAtNotion</td>\n",
       "      <td>Virginia, USA</td>\n",
       "      <td>Will The 4-Day Workweek Finally Become Possibl...</td>\n",
       "      <td>0</td>\n",
       "    </tr>\n",
       "    <tr>\n",
       "      <th>3</th>\n",
       "      <td>2023-04-15 17:23:15+00:00</td>\n",
       "      <td>Ronald_vanLoon</td>\n",
       "      <td>The Netherlands</td>\n",
       "      <td>Google's new #Robot has taught itself to follo...</td>\n",
       "      <td>1</td>\n",
       "    </tr>\n",
       "    <tr>\n",
       "      <th>4</th>\n",
       "      <td>2023-04-15 17:21:45+00:00</td>\n",
       "      <td>aihoneysingh</td>\n",
       "      <td></td>\n",
       "      <td>AI tool generate art- cute baby in a popcorn b...</td>\n",
       "      <td>2</td>\n",
       "    </tr>\n",
       "  </tbody>\n",
       "</table>\n",
       "</div>"
      ],
      "text/plain": [
       "                       date        username         location  \\\n",
       "0 2023-04-15 17:24:35+00:00    rudenetworks                    \n",
       "1 2023-04-15 17:24:05+00:00      RogerRehm4   Los Aneles, CA   \n",
       "2 2023-04-15 17:24:02+00:00  KeotusAtNotion    Virginia, USA   \n",
       "3 2023-04-15 17:23:15+00:00  Ronald_vanLoon  The Netherlands   \n",
       "4 2023-04-15 17:21:45+00:00    aihoneysingh                    \n",
       "\n",
       "                                              tweets  likes  \n",
       "0  A.I Art Work 16381\\n000043.139232532\\n#aiart #...      0  \n",
       "1  How To Buy Reviews On Google\\nhttps://t.co/lZi...      1  \n",
       "2  Will The 4-Day Workweek Finally Become Possibl...      0  \n",
       "3  Google's new #Robot has taught itself to follo...      1  \n",
       "4  AI tool generate art- cute baby in a popcorn b...      2  "
      ]
     },
     "execution_count": 8,
     "metadata": {},
     "output_type": "execute_result"
    }
   ],
   "source": [
    "df.head()"
   ]
  },
  {
   "cell_type": "code",
   "execution_count": null,
   "id": "6ade3ece",
   "metadata": {},
   "outputs": [],
   "source": []
  }
 ],
 "metadata": {
  "kernelspec": {
   "display_name": "Python 3 (ipykernel)",
   "language": "python",
   "name": "python3"
  },
  "language_info": {
   "codemirror_mode": {
    "name": "ipython",
    "version": 3
   },
   "file_extension": ".py",
   "mimetype": "text/x-python",
   "name": "python",
   "nbconvert_exporter": "python",
   "pygments_lexer": "ipython3",
   "version": "3.9.16"
  }
 },
 "nbformat": 4,
 "nbformat_minor": 5
}
