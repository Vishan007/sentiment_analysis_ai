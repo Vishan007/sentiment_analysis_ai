{
 "cells": [
  {
   "cell_type": "code",
   "execution_count": 50,
   "id": "3214bb29",
   "metadata": {},
   "outputs": [],
   "source": [
    "import pandas as pd\n",
    "import twint "
   ]
  },
  {
   "cell_type": "code",
   "execution_count": 3,
   "id": "34f4f55c",
   "metadata": {},
   "outputs": [],
   "source": [
    "city_df= pd.read_csv('test.csv')"
   ]
  },
  {
   "cell_type": "code",
   "execution_count": 15,
   "id": "333a9bd6",
   "metadata": {},
   "outputs": [],
   "source": [
    "location = city_df['admin_name1'].unique().tolist()"
   ]
  },
  {
   "cell_type": "code",
   "execution_count": 29,
   "id": "303ea81e",
   "metadata": {},
   "outputs": [],
   "source": [
    "remove_list = ['Dadar and Nagar Haveli','Pondicherry','Lakshadweep','Andaman and Nicobar']"
   ]
  },
  {
   "cell_type": "code",
   "execution_count": 30,
   "id": "9b9ce7cf",
   "metadata": {},
   "outputs": [
    {
     "data": {
      "text/plain": [
       "['New Delhi',\n",
       " 'Uttar Pradesh',\n",
       " 'Haryana',\n",
       " 'Punjab',\n",
       " 'Chandigarh',\n",
       " 'Himachal Pradesh',\n",
       " 'Jammu and Kashmir',\n",
       " 'Uttaranchal',\n",
       " 'Tamil Nadu',\n",
       " 'Rajasthan',\n",
       " 'Gujarat',\n",
       " 'Maharashtra',\n",
       " 'Goa',\n",
       " 'Orisa',\n",
       " 'Madhya Pradesh',\n",
       " 'Chattisgarh',\n",
       " 'Andhra Pradesh',\n",
       " 'Karnataka',\n",
       " 'Kerala',\n",
       " 'West Bengal',\n",
       " 'Sikkim',\n",
       " 'Assam',\n",
       " 'Arunachal Pradesh',\n",
       " 'Meghalaya',\n",
       " 'Manipur',\n",
       " 'Mizoram',\n",
       " 'Nagaland',\n",
       " 'Tripura',\n",
       " 'Bihar',\n",
       " 'Jharkhand']"
      ]
     },
     "execution_count": 30,
     "metadata": {},
     "output_type": "execute_result"
    }
   ],
   "source": [
    "location\n",
    "states = [i for i in location if i not in remove_list]\n"
   ]
  },
  {
   "cell_type": "code",
   "execution_count": 45,
   "id": "fe8048e0",
   "metadata": {},
   "outputs": [],
   "source": [
    "def scrape_by_location(keyword,since,outfile):\n",
    "    unique_loc = set(states)\n",
    "    states_loc = sorted(unique_loc)\n",
    "    c = tnt.Config()\n",
    "    print(states_loc)\n",
    "    c.Search = keyword\n",
    "    c.Since = since\n",
    "    c.Output = \"./\" + outfile\n",
    "    c.Near = states_loc\n",
    "    c.Hide_output = True\n",
    "    c.Count = True\n",
    "    c.Stats = True\n",
    "    c.limit = 100\n",
    "    c.Resume = 'resume.txt'\n",
    "    tnt.run.Search(c)"
   ]
  },
  {
   "cell_type": "code",
   "execution_count": 49,
   "id": "2cfe31f0",
   "metadata": {},
   "outputs": [
    {
     "ename": "RuntimeError",
     "evalue": "This event loop is already running",
     "output_type": "error",
     "traceback": [
      "\u001b[1;31m---------------------------------------------------------------------------\u001b[0m",
      "\u001b[1;31mRuntimeError\u001b[0m                              Traceback (most recent call last)",
      "Cell \u001b[1;32mIn[49], line 7\u001b[0m\n\u001b[0;32m      4\u001b[0m tnt\u001b[38;5;241m.\u001b[39mStore_object \u001b[38;5;241m=\u001b[39m \u001b[38;5;28;01mTrue\u001b[39;00m\n\u001b[0;32m      6\u001b[0m tnt\u001b[38;5;241m.\u001b[39mLimit \u001b[38;5;241m=\u001b[39m \u001b[38;5;241m10\u001b[39m\n\u001b[1;32m----> 7\u001b[0m \u001b[43mtnt\u001b[49m\u001b[38;5;241;43m.\u001b[39;49m\u001b[43mrun\u001b[49m\u001b[38;5;241;43m.\u001b[39;49m\u001b[43mSearch\u001b[49m\u001b[43m(\u001b[49m\u001b[43mt\u001b[49m\u001b[43m)\u001b[49m\n\u001b[0;32m      9\u001b[0m tlist \u001b[38;5;241m=\u001b[39m t\u001b[38;5;241m.\u001b[39msearch_tweet_list\n\u001b[0;32m     11\u001b[0m \u001b[38;5;28mprint\u001b[39m(tlist)\n",
      "File \u001b[1;32m~\\anaconda3\\lib\\site-packages\\twint\\run.py:327\u001b[0m, in \u001b[0;36mSearch\u001b[1;34m(config, callback)\u001b[0m\n\u001b[0;32m    325\u001b[0m config\u001b[38;5;241m.\u001b[39mProfile \u001b[38;5;241m=\u001b[39m \u001b[38;5;28;01mFalse\u001b[39;00m\n\u001b[0;32m    326\u001b[0m config\u001b[38;5;241m.\u001b[39mProfile_full \u001b[38;5;241m=\u001b[39m \u001b[38;5;28;01mFalse\u001b[39;00m\n\u001b[1;32m--> 327\u001b[0m \u001b[43mrun\u001b[49m\u001b[43m(\u001b[49m\u001b[43mconfig\u001b[49m\u001b[43m,\u001b[49m\u001b[43m \u001b[49m\u001b[43mcallback\u001b[49m\u001b[43m)\u001b[49m\n\u001b[0;32m    328\u001b[0m \u001b[38;5;28;01mif\u001b[39;00m config\u001b[38;5;241m.\u001b[39mPandas_au:\n\u001b[0;32m    329\u001b[0m     storage\u001b[38;5;241m.\u001b[39mpanda\u001b[38;5;241m.\u001b[39m_autoget(\u001b[38;5;124m\"\u001b[39m\u001b[38;5;124mtweet\u001b[39m\u001b[38;5;124m\"\u001b[39m)\n",
      "File \u001b[1;32m~\\anaconda3\\lib\\site-packages\\twint\\run.py:226\u001b[0m, in \u001b[0;36mrun\u001b[1;34m(config, callback)\u001b[0m\n\u001b[0;32m    223\u001b[0m     logme\u001b[38;5;241m.\u001b[39mexception(\u001b[38;5;18m__name__\u001b[39m\u001b[38;5;241m+\u001b[39m\u001b[38;5;124m'\u001b[39m\u001b[38;5;124m:Lookup:Unexpected exception occured while attempting to get or create a new event loop.\u001b[39m\u001b[38;5;124m'\u001b[39m)\n\u001b[0;32m    224\u001b[0m     \u001b[38;5;28;01mraise\u001b[39;00m\n\u001b[1;32m--> 226\u001b[0m \u001b[43mget_event_loop\u001b[49m\u001b[43m(\u001b[49m\u001b[43m)\u001b[49m\u001b[38;5;241;43m.\u001b[39;49m\u001b[43mrun_until_complete\u001b[49m\u001b[43m(\u001b[49m\u001b[43mTwint\u001b[49m\u001b[43m(\u001b[49m\u001b[43mconfig\u001b[49m\u001b[43m)\u001b[49m\u001b[38;5;241;43m.\u001b[39;49m\u001b[43mmain\u001b[49m\u001b[43m(\u001b[49m\u001b[43mcallback\u001b[49m\u001b[43m)\u001b[49m\u001b[43m)\u001b[49m\n",
      "File \u001b[1;32m~\\anaconda3\\lib\\asyncio\\base_events.py:623\u001b[0m, in \u001b[0;36mBaseEventLoop.run_until_complete\u001b[1;34m(self, future)\u001b[0m\n\u001b[0;32m    612\u001b[0m \u001b[38;5;250m\u001b[39m\u001b[38;5;124;03m\"\"\"Run until the Future is done.\u001b[39;00m\n\u001b[0;32m    613\u001b[0m \n\u001b[0;32m    614\u001b[0m \u001b[38;5;124;03mIf the argument is a coroutine, it is wrapped in a Task.\u001b[39;00m\n\u001b[1;32m   (...)\u001b[0m\n\u001b[0;32m    620\u001b[0m \u001b[38;5;124;03mReturn the Future's result, or raise its exception.\u001b[39;00m\n\u001b[0;32m    621\u001b[0m \u001b[38;5;124;03m\"\"\"\u001b[39;00m\n\u001b[0;32m    622\u001b[0m \u001b[38;5;28mself\u001b[39m\u001b[38;5;241m.\u001b[39m_check_closed()\n\u001b[1;32m--> 623\u001b[0m \u001b[38;5;28;43mself\u001b[39;49m\u001b[38;5;241;43m.\u001b[39;49m\u001b[43m_check_running\u001b[49m\u001b[43m(\u001b[49m\u001b[43m)\u001b[49m\n\u001b[0;32m    625\u001b[0m new_task \u001b[38;5;241m=\u001b[39m \u001b[38;5;129;01mnot\u001b[39;00m futures\u001b[38;5;241m.\u001b[39misfuture(future)\n\u001b[0;32m    626\u001b[0m future \u001b[38;5;241m=\u001b[39m tasks\u001b[38;5;241m.\u001b[39mensure_future(future, loop\u001b[38;5;241m=\u001b[39m\u001b[38;5;28mself\u001b[39m)\n",
      "File \u001b[1;32m~\\anaconda3\\lib\\asyncio\\base_events.py:583\u001b[0m, in \u001b[0;36mBaseEventLoop._check_running\u001b[1;34m(self)\u001b[0m\n\u001b[0;32m    581\u001b[0m \u001b[38;5;28;01mdef\u001b[39;00m \u001b[38;5;21m_check_running\u001b[39m(\u001b[38;5;28mself\u001b[39m):\n\u001b[0;32m    582\u001b[0m     \u001b[38;5;28;01mif\u001b[39;00m \u001b[38;5;28mself\u001b[39m\u001b[38;5;241m.\u001b[39mis_running():\n\u001b[1;32m--> 583\u001b[0m         \u001b[38;5;28;01mraise\u001b[39;00m \u001b[38;5;167;01mRuntimeError\u001b[39;00m(\u001b[38;5;124m'\u001b[39m\u001b[38;5;124mThis event loop is already running\u001b[39m\u001b[38;5;124m'\u001b[39m)\n\u001b[0;32m    584\u001b[0m     \u001b[38;5;28;01mif\u001b[39;00m events\u001b[38;5;241m.\u001b[39m_get_running_loop() \u001b[38;5;129;01mis\u001b[39;00m \u001b[38;5;129;01mnot\u001b[39;00m \u001b[38;5;28;01mNone\u001b[39;00m:\n\u001b[0;32m    585\u001b[0m         \u001b[38;5;28;01mraise\u001b[39;00m \u001b[38;5;167;01mRuntimeError\u001b[39;00m(\n\u001b[0;32m    586\u001b[0m             \u001b[38;5;124m'\u001b[39m\u001b[38;5;124mCannot run the event loop while another loop is running\u001b[39m\u001b[38;5;124m'\u001b[39m)\n",
      "\u001b[1;31mRuntimeError\u001b[0m: This event loop is already running"
     ]
    }
   ],
   "source": [
    "t = twint.Config()\n",
    "t.Search = \"artificalintelligence\"\n",
    "\n",
    "t.Store_object = True\n",
    "\n",
    "t.Limit = 10\n",
    "t.run.Search(t)\n",
    "\n",
    "tlist = t.search_tweet_list\n",
    "\n",
    "print(tlist)"
   ]
  },
  {
   "cell_type": "code",
   "execution_count": null,
   "id": "d3b014e0",
   "metadata": {},
   "outputs": [],
   "source": []
  }
 ],
 "metadata": {
  "kernelspec": {
   "display_name": "Python 3 (ipykernel)",
   "language": "python",
   "name": "python3"
  },
  "language_info": {
   "codemirror_mode": {
    "name": "ipython",
    "version": 3
   },
   "file_extension": ".py",
   "mimetype": "text/x-python",
   "name": "python",
   "nbconvert_exporter": "python",
   "pygments_lexer": "ipython3",
   "version": "3.9.16"
  }
 },
 "nbformat": 4,
 "nbformat_minor": 5
}
